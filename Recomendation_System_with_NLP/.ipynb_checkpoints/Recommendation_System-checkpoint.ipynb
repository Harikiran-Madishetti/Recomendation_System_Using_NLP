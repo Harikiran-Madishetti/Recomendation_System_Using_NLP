{
 "cells": [
  {
   "cell_type": "markdown",
   "metadata": {},
   "source": [
    "<h3>Packages Required</h3>\n"
   ]
  },
  {
   "cell_type": "code",
   "execution_count": 2,
   "metadata": {},
   "outputs": [],
   "source": [
    "import string\n",
    "import re\n",
    "import pandas as pd\n",
    "import numpy as np\n",
    "from nltk.corpus import stopwords\n",
    "from sklearn.feature_extraction.text import TfidfVectorizer\n",
    "from nltk.tokenize import word_tokenize, sent_tokenize\n",
    "from sklearn.metrics.pairwise import cosine_similarity\n",
    "from nltk.util import flatten"
   ]
  },
  {
   "cell_type": "markdown",
   "metadata": {},
   "source": [
    "<h3>Reading Manufacturers Data</h3> \n",
    "\n"
   ]
  },
  {
   "cell_type": "code",
   "execution_count": 3,
   "metadata": {},
   "outputs": [
    {
     "data": {
      "text/plain": [
       "0    ['Assemblies', 'Aircraft Parts', 'Aluminum', '...\n",
       "1    ['Aerospace Components', 'Aircraft Parts', 'As...\n",
       "2    ['Assembly Services', 'Fabrication Services', ...\n",
       "3    ['COVID-19 Response', 'Drilling Services', 'Ma...\n",
       "4    ['Drilling Services', 'Fabrication Services', ...\n",
       "Name: Capabilities_Overall, dtype: object"
      ]
     },
     "execution_count": 3,
     "metadata": {},
     "output_type": "execute_result"
    }
   ],
   "source": [
    "#Reading the data from CSV\n",
    "dataframe = pd.read_csv('Data.csv')\n",
    "dataframe.dropna()      #Dropping na values\n",
    "\n",
    "dataframe[\"Capabilities_Overall\"].head()"
   ]
  },
  {
   "cell_type": "code",
   "execution_count": 153,
   "metadata": {},
   "outputs": [
    {
     "data": {
      "text/plain": [
       "(13190, 8)"
      ]
     },
     "execution_count": 153,
     "metadata": {},
     "output_type": "execute_result"
    }
   ],
   "source": [
    "Complete_Manufacturers.shape"
   ]
  },
  {
   "cell_type": "markdown",
   "metadata": {},
   "source": [
    "<h3>Selecting the \"State\" and \"Manufacturing Category\" in which we are looking for manufacturers\n",
    "    </h3>"
   ]
  },
  {
   "cell_type": "code",
   "execution_count": 4,
   "metadata": {},
   "outputs": [],
   "source": [
    "#Input_State = 'CA'    #Can be selected if you want the manufacturers recomendation in a state\n",
    "input_text = [\"Broaching Services\"]"
   ]
  },
  {
   "cell_type": "code",
   "execution_count": 5,
   "metadata": {},
   "outputs": [],
   "source": [
    "#dataframe = Complete_Manufacturers[dataframe[\"Manufacturer_state\"] == Input_State]"
   ]
  },
  {
   "cell_type": "markdown",
   "metadata": {},
   "source": [
    "<h3>Total Number of Results for Selected state and Category</h3>"
   ]
  },
  {
   "cell_type": "code",
   "execution_count": 7,
   "metadata": {},
   "outputs": [
    {
     "data": {
      "text/plain": [
       "(1500, 8)"
      ]
     },
     "execution_count": 7,
     "metadata": {},
     "output_type": "execute_result"
    }
   ],
   "source": [
    "dataframe.shape"
   ]
  },
  {
   "cell_type": "markdown",
   "metadata": {},
   "source": [
    "<h3>Selecting only the Capabilities of manufacturers</h3>"
   ]
  },
  {
   "cell_type": "code",
   "execution_count": 8,
   "metadata": {},
   "outputs": [],
   "source": [
    "Manufacturer_Capabilities = dataframe[\"Capabilities_Overall\"]"
   ]
  },
  {
   "cell_type": "markdown",
   "metadata": {},
   "source": [
    "<h3>Function to clean and  Normalize the Text</h3>"
   ]
  },
  {
   "cell_type": "code",
   "execution_count": 20,
   "metadata": {},
   "outputs": [],
   "source": [
    "def Text_Normalization(dataframe,input_text):\n",
    "    # print(input_list)\n",
    "    list_for_matrix = []\n",
    "    input_list =[]\n",
    "    for i in range(len(Manufacturer_Capabilities)):\n",
    "        text = \"\".join(Manufacturer_Capabilities[i])\n",
    "        text = text.lower()\n",
    "        text = text.strip()\n",
    "        text = \"\".join([char for char in text if char not in string.punctuation])\n",
    "        text = re.sub(\"r(\\d)\",\"\", text)\n",
    "        text = re.sub(r'\\(.*?\\)', '', text)\n",
    "        tokens = word_tokenize(text)\n",
    "        list_for_matrix.append(\" \".join(tokens))\n",
    "        \n",
    "    for j in range(len(input_text)):\n",
    "        text1 = \"\".join(input_text[j])       \n",
    "        text1 = text1.lower()       \n",
    "        text1 = text1.strip()     \n",
    "        text1 = \"\".join([char for char in text1 if char not in string.punctuation])      \n",
    "        text1 = re.sub(\"r(\\d)\",\"\", text1)        \n",
    "        text1 = re.sub(r'\\(.*?\\)', '', text1)       \n",
    "        tokens1 = word_tokenize(text1)\n",
    "        input_list.append(\" \".join(tokens1))\n",
    "        input_list =(input_list)\n",
    "#      print(input_list)\n",
    "    list_for_matrix.insert(0,input_list)\n",
    "    list_for_matrix =flatten(list_for_matrix)\n",
    "#     print(list_for_matrix)\n",
    "    return list_for_matrix"
   ]
  },
  {
   "cell_type": "markdown",
   "metadata": {},
   "source": [
    "<h3>Function to convert the Text to matrix for each manufacturer using the TfidfVectorizer</h3>"
   ]
  },
  {
   "cell_type": "code",
   "execution_count": 21,
   "metadata": {},
   "outputs": [],
   "source": [
    "def Vectorizer (Normalized_data):\n",
    "    vectorizer = TfidfVectorizer(stop_words='english')\n",
    "    matrix = vectorizer.fit_transform(Normalized_data)\n",
    "    print(matrix.toarray())\n",
    "    Input_matrix = matrix[0]\n",
    "    new_matrix = matrix[1:]\n",
    "    print(Input_matrix.shape)\n",
    "    print(new_matrix.shape)\n",
    "    return new_matrix,Input_matrix\n"
   ]
  },
  {
   "cell_type": "markdown",
   "metadata": {},
   "source": [
    "<h3>converting the InputText and Manufacturer_Capabilities to matrix and storing them into X and Input_matrix</h3>"
   ]
  },
  {
   "cell_type": "code",
   "execution_count": 22,
   "metadata": {
    "scrolled": true
   },
   "outputs": [
    {
     "name": "stdout",
     "output_type": "stream",
     "text": [
      "[[0. 0. 0. ... 0. 0. 0.]\n",
      " [0. 0. 0. ... 0. 0. 0.]\n",
      " [0. 0. 0. ... 0. 0. 0.]\n",
      " ...\n",
      " [0. 0. 0. ... 0. 0. 0.]\n",
      " [0. 0. 0. ... 0. 0. 0.]\n",
      " [0. 0. 0. ... 0. 0. 0.]]\n",
      "(1, 1119)\n",
      "(1500, 1119)\n",
      "[[0. 0. 0. ... 0. 0. 0.]\n",
      " [0. 0. 0. ... 0. 0. 0.]\n",
      " [0. 0. 0. ... 0. 0. 0.]\n",
      " ...\n",
      " [0. 0. 0. ... 0. 0. 0.]\n",
      " [0. 0. 0. ... 0. 0. 0.]\n",
      " [0. 0. 0. ... 0. 0. 0.]]\n",
      "(1, 1119)\n",
      "(1500, 1119)\n"
     ]
    }
   ],
   "source": [
    "Normalized_data = Text_Normalization(dataframe,input_text)\n",
    "X = Vectorizer (Normalized_data)[0]\n",
    "Input_matrix = Vectorizer (Normalized_data)[1]"
   ]
  },
  {
   "cell_type": "markdown",
   "metadata": {},
   "source": [
    "<h3>Calculating the similarity score for Input and Manufacturing_Capabilities matrix</h3>"
   ]
  },
  {
   "cell_type": "code",
   "execution_count": 25,
   "metadata": {},
   "outputs": [
    {
     "data": {
      "text/plain": [
       "[0.0737476141696673,\n",
       " 0.12607698364179,\n",
       " 0.175662693505785,\n",
       " 0.09730830763292418,\n",
       " 0.1367181521372623,\n",
       " 0.09204832178018592,\n",
       " 0.07227763519674053,\n",
       " 0.07465712687008205,\n",
       " 0.10567621100673,\n",
       " 0.028584153783784216,\n",
       " 0.10908512279074355,\n",
       " 0.2506443055326975,\n",
       " 0.14641049380717613,\n",
       " 0.10443816513683224,\n",
       " 0.07188896613587731,\n",
       " 0.04269599946079692,\n",
       " 0.11728054733498088,\n",
       " 0.0775310013811739,\n",
       " 0.1189800603964282,\n",
       " 0.06590714280399934]"
      ]
     },
     "execution_count": 25,
     "metadata": {},
     "output_type": "execute_result"
    }
   ],
   "source": [
    "cosine_score = cosine_similarity(Input_matrix, X)\n",
    "company_score = cosine_score.tolist()\n",
    "company_score= flatten(company_score)\n",
    "company_score[:20]"
   ]
  },
  {
   "cell_type": "markdown",
   "metadata": {},
   "source": [
    "<h3>storing the Manufacturer scores and ID's in sorting order in a list</h3>"
   ]
  },
  {
   "cell_type": "code",
   "execution_count": 26,
   "metadata": {},
   "outputs": [
    {
     "data": {
      "text/html": [
       "<div>\n",
       "<style scoped>\n",
       "    .dataframe tbody tr th:only-of-type {\n",
       "        vertical-align: middle;\n",
       "    }\n",
       "\n",
       "    .dataframe tbody tr th {\n",
       "        vertical-align: top;\n",
       "    }\n",
       "\n",
       "    .dataframe thead th {\n",
       "        text-align: right;\n",
       "    }\n",
       "</style>\n",
       "<table border=\"1\" class=\"dataframe\">\n",
       "  <thead>\n",
       "    <tr style=\"text-align: right;\">\n",
       "      <th></th>\n",
       "      <th>company_score</th>\n",
       "      <th>ID</th>\n",
       "    </tr>\n",
       "  </thead>\n",
       "  <tbody>\n",
       "    <tr>\n",
       "      <th>0</th>\n",
       "      <td>0.073748</td>\n",
       "      <td>0</td>\n",
       "    </tr>\n",
       "    <tr>\n",
       "      <th>1</th>\n",
       "      <td>0.126077</td>\n",
       "      <td>1</td>\n",
       "    </tr>\n",
       "    <tr>\n",
       "      <th>2</th>\n",
       "      <td>0.175663</td>\n",
       "      <td>2</td>\n",
       "    </tr>\n",
       "    <tr>\n",
       "      <th>3</th>\n",
       "      <td>0.097308</td>\n",
       "      <td>3</td>\n",
       "    </tr>\n",
       "    <tr>\n",
       "      <th>4</th>\n",
       "      <td>0.136718</td>\n",
       "      <td>4</td>\n",
       "    </tr>\n",
       "  </tbody>\n",
       "</table>\n",
       "</div>"
      ],
      "text/plain": [
       "   company_score  ID\n",
       "0       0.073748   0\n",
       "1       0.126077   1\n",
       "2       0.175663   2\n",
       "3       0.097308   3\n",
       "4       0.136718   4"
      ]
     },
     "execution_count": 26,
     "metadata": {},
     "output_type": "execute_result"
    }
   ],
   "source": [
    "data_frame =pd.DataFrame()\n",
    "data_frame['company_score'] = company_score\n",
    "data_frame['ID'] = data_frame.index\n",
    "data_frame.head()\n"
   ]
  },
  {
   "cell_type": "code",
   "execution_count": 27,
   "metadata": {},
   "outputs": [
    {
     "name": "stdout",
     "output_type": "stream",
     "text": [
      "      company_score    ID\n",
      "1498       1.000000  1498\n",
      "729        0.737442   729\n",
      "1077       0.678739  1077\n",
      "828        0.662405   828\n",
      "1049       0.652984  1049\n"
     ]
    }
   ],
   "source": [
    "DataFrame = data_frame.sort_values(by ='company_score',ascending=False)\n",
    "print(DataFrame.head(5))\n",
    "list = DataFrame[\"ID\"].head(5)"
   ]
  },
  {
   "cell_type": "markdown",
   "metadata": {},
   "source": [
    "<h3>Displaying the Manufacturers based on the Similarity Score</h3>"
   ]
  },
  {
   "cell_type": "code",
   "execution_count": 28,
   "metadata": {},
   "outputs": [
    {
     "data": {
      "text/html": [
       "<div>\n",
       "<style scoped>\n",
       "    .dataframe tbody tr th:only-of-type {\n",
       "        vertical-align: middle;\n",
       "    }\n",
       "\n",
       "    .dataframe tbody tr th {\n",
       "        vertical-align: top;\n",
       "    }\n",
       "\n",
       "    .dataframe thead th {\n",
       "        text-align: right;\n",
       "    }\n",
       "</style>\n",
       "<table border=\"1\" class=\"dataframe\">\n",
       "  <thead>\n",
       "    <tr style=\"text-align: right;\">\n",
       "      <th></th>\n",
       "      <th>Name</th>\n",
       "      <th>Address</th>\n",
       "      <th>Manufacturer_state</th>\n",
       "      <th>Number</th>\n",
       "      <th>URL</th>\n",
       "      <th>Employees</th>\n",
       "      <th>Description</th>\n",
       "      <th>Capabilities_Overall</th>\n",
       "    </tr>\n",
       "  </thead>\n",
       "  <tbody>\n",
       "    <tr>\n",
       "      <th>1498</th>\n",
       "      <td>ABCD</td>\n",
       "      <td>ABSCSD Cucamonga, CA 91730</td>\n",
       "      <td>CA</td>\n",
       "      <td>123456</td>\n",
       "      <td>Not Available</td>\n",
       "      <td>9-Jan</td>\n",
       "      <td>Company Description by Thomasnet\\nCNC Machine ...</td>\n",
       "      <td>[\"Broaching Services\"]</td>\n",
       "    </tr>\n",
       "    <tr>\n",
       "      <th>729</th>\n",
       "      <td>Brico Engineering Co.</td>\n",
       "      <td>Torrance, CA 90502</td>\n",
       "      <td>CA</td>\n",
       "      <td>310-326-4301</td>\n",
       "      <td>http://www.bricoengineering.com</td>\n",
       "      <td>9-Jan</td>\n",
       "      <td>Company Description by Thomasnet\\nMilling, lat...</td>\n",
       "      <td>['Broaching Services', 'Forming Services', 'Ma...</td>\n",
       "    </tr>\n",
       "    <tr>\n",
       "      <th>1077</th>\n",
       "      <td>Swiss-Micron, Inc.</td>\n",
       "      <td>Rancho Santa Margarita, CA 92688</td>\n",
       "      <td>CA</td>\n",
       "      <td>949-589-0430</td>\n",
       "      <td>http://www.swissmicron.com</td>\n",
       "      <td>50-99</td>\n",
       "      <td>Company Description by Thomasnet\\nManufacturer...</td>\n",
       "      <td>['Broaching Services', 'Knurling Services', 'M...</td>\n",
       "    </tr>\n",
       "    <tr>\n",
       "      <th>828</th>\n",
       "      <td>Digital Machine</td>\n",
       "      <td>Buellton, CA 93427</td>\n",
       "      <td>CA</td>\n",
       "      <td>805-686-1071</td>\n",
       "      <td>Not Available</td>\n",
       "      <td>9-Jan</td>\n",
       "      <td>Company Description by Thomasnet\\nCustom manuf...</td>\n",
       "      <td>['Broaching Services', 'Drilling Services', 'F...</td>\n",
       "    </tr>\n",
       "    <tr>\n",
       "      <th>1049</th>\n",
       "      <td>Ea Machining, Inc</td>\n",
       "      <td>Santa Clara, CA 95054</td>\n",
       "      <td>CA</td>\n",
       "      <td>408-727-4962</td>\n",
       "      <td>Http://www.eamachining.com</td>\n",
       "      <td>9-Jan</td>\n",
       "      <td>Company Description by Thomasnet\\nManufacturer...</td>\n",
       "      <td>['Broaching Services', 'Knurling Services', 'M...</td>\n",
       "    </tr>\n",
       "  </tbody>\n",
       "</table>\n",
       "</div>"
      ],
      "text/plain": [
       "                       Name                            Address  \\\n",
       "1498                   ABCD        ABSCSD Cucamonga, CA 91730    \n",
       "729   Brico Engineering Co.                Torrance, CA 90502    \n",
       "1077     Swiss-Micron, Inc.  Rancho Santa Margarita, CA 92688    \n",
       "828         Digital Machine                Buellton, CA 93427    \n",
       "1049      Ea Machining, Inc             Santa Clara, CA 95054    \n",
       "\n",
       "     Manufacturer_state        Number                              URL  \\\n",
       "1498                 CA        123456                    Not Available   \n",
       "729                  CA  310-326-4301  http://www.bricoengineering.com   \n",
       "1077                 CA  949-589-0430       http://www.swissmicron.com   \n",
       "828                  CA  805-686-1071                    Not Available   \n",
       "1049                 CA  408-727-4962       Http://www.eamachining.com   \n",
       "\n",
       "     Employees                                        Description  \\\n",
       "1498     9-Jan  Company Description by Thomasnet\\nCNC Machine ...   \n",
       "729      9-Jan  Company Description by Thomasnet\\nMilling, lat...   \n",
       "1077     50-99  Company Description by Thomasnet\\nManufacturer...   \n",
       "828      9-Jan  Company Description by Thomasnet\\nCustom manuf...   \n",
       "1049     9-Jan  Company Description by Thomasnet\\nManufacturer...   \n",
       "\n",
       "                                   Capabilities_Overall  \n",
       "1498                             [\"Broaching Services\"]  \n",
       "729   ['Broaching Services', 'Forming Services', 'Ma...  \n",
       "1077  ['Broaching Services', 'Knurling Services', 'M...  \n",
       "828   ['Broaching Services', 'Drilling Services', 'F...  \n",
       "1049  ['Broaching Services', 'Knurling Services', 'M...  "
      ]
     },
     "execution_count": 28,
     "metadata": {},
     "output_type": "execute_result"
    }
   ],
   "source": [
    "Suggested_manufacturers = dataframe.loc[list]\n",
    "Suggested_manufacturers"
   ]
  },
  {
   "cell_type": "code",
   "execution_count": null,
   "metadata": {},
   "outputs": [],
   "source": []
  }
 ],
 "metadata": {
  "kernelspec": {
   "display_name": "Python 3",
   "language": "python",
   "name": "python3"
  },
  "language_info": {
   "codemirror_mode": {
    "name": "ipython",
    "version": 3
   },
   "file_extension": ".py",
   "mimetype": "text/x-python",
   "name": "python",
   "nbconvert_exporter": "python",
   "pygments_lexer": "ipython3",
   "version": "3.8.3"
  }
 },
 "nbformat": 4,
 "nbformat_minor": 2
}
